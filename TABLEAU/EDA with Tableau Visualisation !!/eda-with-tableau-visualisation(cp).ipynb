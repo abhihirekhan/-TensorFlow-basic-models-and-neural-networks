{
 "cells": [
  {
   "cell_type": "markdown",
   "metadata": {
    "_cell_guid": "b1076dfc-b9ad-4769-8c92-a6c4dae69d19",
    "_uuid": "8f2839f25d086af736a60e9eeb907d3b93b6e0e5"
   },
   "source": [
    "# Exploratory Data Analysis - Global Terrorism !!\n",
    "\n",
    "Information on more than 180,000  Terrorist Attacks\n",
    "\n",
    "The Global Terrorism Database  (GTD) is an open-source database including information on terrorist attacks around the world from 1970 through 2017. The   GTD includes systematic data on domestic as well as international terrorist incidents that have occurred during this time period and now includes more than 180,000 attacks. The database is maintained by researchers at the National Consortium for the Study of Terrorism and Responses to Terrorism (START), headquartered at the University of Maryland. \n",
    "\n",
    "Geography: Worldwide\n",
    "\n",
    "Time period: 1970-2017, except 1993\n",
    "\n",
    "Unit of analysis: Attack\n",
    "\n",
    "Variables: >100 variables on location, tactics, perpetrators, targets, and outcomes\n",
    "\n",
    "Sources: Unclassified media articles (Note: Please interpret changes over time with caution. Global patterns are driven by diverse trends in particular regions, and data collection is influenced by fluctuations in access to media coverage over both time and place.)\n",
    "\n",
    "Definition of terrorism:\n",
    "\n",
    "\n",
    "\"The threatened or actual use of illegal force and violence by a non-state actor to attain a political, economic, religious, or social goal through fear, coercion, or intimidation.\"\n",
    "\n",
    " "
   ]
  },
  {
   "cell_type": "code",
   "execution_count": 1,
   "metadata": {
    "_cell_guid": "79c7e3d0-c299-4dcb-8224-4455121ee9b0",
    "_kg_hide-input": true,
    "_uuid": "d629ff2d2480ee46fbb7e2d37f6b5fab8052498a"
   },
   "outputs": [
    {
     "data": {
      "text/html": [
       "\n",
       "        <iframe\n",
       "            width=\"1000\"\n",
       "            height=\"930\"\n",
       "            src=\"https://public.tableau.com/views/GlobalTerrorismExploratoryDataAnalysis-Kaggle/TargetDashboard?:embed=y&:display_count=yes\"\n",
       "            frameborder=\"0\"\n",
       "            allowfullscreen\n",
       "        ></iframe>\n",
       "        "
      ],
      "text/plain": [
       "<IPython.lib.display.IFrame at 0x5cc8748>"
      ]
     },
     "execution_count": 1,
     "metadata": {},
     "output_type": "execute_result"
    }
   ],
   "source": [
    "#Import Tableau Visualisation\n",
    "from IPython.display import IFrame\n",
    "IFrame('https://public.tableau.com/views/GlobalTerrorismExploratoryDataAnalysis-Kaggle/TargetDashboard?:embed=y&:display_count=yes', width=1000, height=930)"
   ]
  }
 ],
 "metadata": {
  "kernelspec": {
   "display_name": "Python 3",
   "language": "python",
   "name": "python3"
  },
  "language_info": {
   "codemirror_mode": {
    "name": "ipython",
    "version": 3
   },
   "file_extension": ".py",
   "mimetype": "text/x-python",
   "name": "python",
   "nbconvert_exporter": "python",
   "pygments_lexer": "ipython3",
   "version": "3.7.3"
  }
 },
 "nbformat": 4,
 "nbformat_minor": 1
}
